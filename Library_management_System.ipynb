class Book:
    def __init__(self, title, author, book_id):
        self.title = title
        self.author = author
        self.book_id = book_id
        self.is_borrowed = False

    def display_info(self):
        status = "Borrowed" if self.is_borrowed else "Available"
        return f"Book ID: {self.book_id}\nTitle: {self.title}\nAuthor: {self.author}\nStatus: {status}\n"

    def __str__(self):
        return self.display_info()


class Library:
    def __init__(self):
        self.books = []

    def add_book(self, book):
        self.books.append(book)
        print("Book added successfully.")

    def search_book(self, title):
        found_books = [book for book in self.books if title.lower() in book.title.lower()]
        if found_books:
            print(f"Found {len(found_books)} book(s):")
            for book in found_books:
                print(book)
        else:
            print("No books found.")

    def borrow_book(self, book_id):
        book = self.find_book_by_id(book_id)
        if book:
            if not book.is_borrowed:
                book.is_borrowed = True
                print("Book borrowed successfully.")
            else:
                print("Sorry, the book is already borrowed.")
        else:
            print("Book not found.")

    def return_book(self, book_id):
        book = self.find_book_by_id(book_id)
        if book:
            if book.is_borrowed:
                book.is_borrowed = False
                print("Book returned successfully.")
            else:
                print("The book is not borrowed.")
        else:
            print("Book not found.")

    def find_book_by_id(self, book_id):
        for book in self.books:
            if book.book_id == book_id:
                return book
        return None

    def display_books(self):
        available_books = [book for book in self.books if not book.is_borrowed]
        if available_books:
            print("List of available books:")
            for book in available_books:
                print(book)
        else:
            print("No books available in the library.")


# Creating books
book1 = Book("Harry Potter and the Sorcerer's Stone", "J.K. Rowling", 1)
book2 = Book("To Kill a Mockingbird", "Harper Lee", 2)
book3 = Book("1984", "George Orwell", 3)
book4 = Book("Pride and Prejudice", "Jane Austen", 4)

# Creating library
library = Library()

# Adding books to the library
library.add_book(book1)
library.add_book(book2)
library.add_book(book3)
library.add_book(book4)

# Testing library management system
library.display_books()

library.search_book("mockingbird")

library.borrow_book(2)
library.borrow_book(2)

library.return_book(2)
library.return_book(2)

library.display_books()
